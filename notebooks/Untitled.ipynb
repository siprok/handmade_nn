{
 "cells": [
  {
   "cell_type": "code",
   "execution_count": 15,
   "id": "f9730f1d",
   "metadata": {},
   "outputs": [],
   "source": [
    "import numpy as np\n",
    "from typing import Callable, Sequence\n",
    "from abc import ABC, abstractmethod"
   ]
  },
  {
   "cell_type": "code",
   "execution_count": 4,
   "id": "d0be143a",
   "metadata": {},
   "outputs": [],
   "source": [
    "class Initializer(ABC):\n",
    "    @abstractmethod\n",
    "    def initialize(self):\n",
    "        pass"
   ]
  },
  {
   "cell_type": "code",
   "execution_count": 6,
   "id": "aa4dadb8",
   "metadata": {},
   "outputs": [],
   "source": [
    "class Optimizer(ABC):\n",
    "    @abstractmethod\n",
    "    def optimize(self):\n",
    "        pass"
   ]
  },
  {
   "cell_type": "code",
   "execution_count": 17,
   "id": "452d9150",
   "metadata": {},
   "outputs": [],
   "source": [
    "class Activation(ABC):\n",
    "    @abstractmethod\n",
    "    def calc(self):\n",
    "        pass\n",
    "    @abstractmethod\n",
    "    def grad(self):\n",
    "        pass"
   ]
  },
  {
   "cell_type": "code",
   "execution_count": 9,
   "id": "950a63f7",
   "metadata": {},
   "outputs": [],
   "source": [
    "class Layer(ABC):\n",
    "    @abstractmethod\n",
    "    def forward(self):\n",
    "        pass\n",
    "    @abstractmethod\n",
    "    def back(self):\n",
    "        pass"
   ]
  },
  {
   "cell_type": "code",
   "execution_count": 10,
   "id": "ff05703a",
   "metadata": {},
   "outputs": [],
   "source": [
    "class Model(ABC):\n",
    "    @abstractmethod\n",
    "    def fit(train_samples: np.ndarray,\n",
    "            train_labels: np.ndarray):\n",
    "        pass\n",
    "    @abstractmethod\n",
    "    def predict(test_samples: np.ndarray) -> np.ndarray:\n",
    "        pass\n",
    "    @abstractmethod\n",
    "    def predict_proba(test_samples: np.ndarray) -> np.ndarray:\n",
    "        pass"
   ]
  },
  {
   "cell_type": "code",
   "execution_count": 16,
   "id": "7f501828",
   "metadata": {},
   "outputs": [],
   "source": [
    "class MNISTDense(Model):\n",
    "    def __init__(self,\n",
    "                 layers_sizes:Sequence[int],\n",
    "                 loss: Callable[[np.ndarray, np.ndarray], np.float32],\n",
    "                 initializer: Initializer,\n",
    "                 optimizer: Optimizer):\n",
    "        pass\n",
    "    \n",
    "    def fit(train_samples: np.ndarray,\n",
    "            train_labels: np.ndarray):\n",
    "        pass\n",
    "    \n",
    "    def predict(test_samples: np.ndarray) -> np.ndarray:\n",
    "        pass\n",
    "    \n",
    "    def predict_proba(test_samples: np.ndarray) -> np.ndarray:\n",
    "        pass"
   ]
  }
 ],
 "metadata": {
  "kernelspec": {
   "display_name": "Python 3 (ipykernel)",
   "language": "python",
   "name": "python3"
  },
  "language_info": {
   "codemirror_mode": {
    "name": "ipython",
    "version": 3
   },
   "file_extension": ".py",
   "mimetype": "text/x-python",
   "name": "python",
   "nbconvert_exporter": "python",
   "pygments_lexer": "ipython3",
   "version": "3.9.7"
  }
 },
 "nbformat": 4,
 "nbformat_minor": 5
}
