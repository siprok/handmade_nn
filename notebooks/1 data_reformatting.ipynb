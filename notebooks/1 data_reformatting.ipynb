{
 "cells": [
  {
   "cell_type": "code",
   "execution_count": 1,
   "id": "bd0b4270",
   "metadata": {},
   "outputs": [],
   "source": [
    "import gzip\n",
    "import numpy as np\n",
    "from pathlib import Path\n",
    "import matplotlib.pyplot as plt\n",
    "%matplotlib inline"
   ]
  },
  {
   "cell_type": "markdown",
   "id": "ec961e6d",
   "metadata": {},
   "source": [
    "## Извлечение исходных данных из архивов"
   ]
  },
  {
   "cell_type": "code",
   "execution_count": 2,
   "id": "c5124b9a",
   "metadata": {},
   "outputs": [],
   "source": [
    "project_path =  Path.cwd().parent\n",
    "data_path = project_path / \"data\"\n",
    "raw_path = data_path / \"raw\"\n",
    "preproc_path = data_path / \"preprocessed\"\n",
    "\n",
    "files = [\n",
    "\"train-images-idx3-ubyte\",\n",
    "\"train-labels-idx1-ubyte\",\n",
    "\"t10k-images-idx3-ubyte\",\n",
    "\"t10k-labels-idx1-ubyte\"\n",
    "]\n",
    "\n",
    "source_train_im_path = preproc_path / \"train-images-idx3-ubyte.bin\"\n",
    "source_train_l_path = preproc_path / \"train-labels-idx1-ubyte.bin\"\n",
    "source_test_im_path = preproc_path / \"t10k-images-idx3-ubyte.bin\"\n",
    "source_test_l_path = preproc_path / \"t10k-labels-idx1-ubyte.bin\"\n"
   ]
  },
  {
   "cell_type": "code",
   "execution_count": 3,
   "id": "3debc6c0",
   "metadata": {},
   "outputs": [],
   "source": [
    "for base in files:\n",
    "    with open(raw_path / (base + \".gz\"), \"rb\") as f:\n",
    "        decompressed = gzip.decompress(f.read())\n",
    "    with open(preproc_path / (base + \".bin\"), \"wb\") as f:\n",
    "        f.write(decompressed)"
   ]
  },
  {
   "cell_type": "markdown",
   "id": "83880f5d",
   "metadata": {},
   "source": [
    "## Считывание данных из бинарных файлов"
   ]
  },
  {
   "cell_type": "markdown",
   "id": "d4f8ce88",
   "metadata": {},
   "source": [
    "### Обучающая выборка"
   ]
  },
  {
   "cell_type": "code",
   "execution_count": 4,
   "id": "6eff6d1f",
   "metadata": {},
   "outputs": [
    {
     "data": {
      "image/png": "[encoded data removed]",
      "text/plain": [
       "<Figure size 432x288 with 1 Axes>"
      ]
     },
     "metadata": {
      "needs_background": "light"
     },
     "output_type": "display_data"
    }
   ],
   "source": [
    "# Метки обуающей выборки\n",
    "train_labels = np.fromfile(source_train_l_path, dtype=np.uint8, offset=8)\n",
    "plt.hist(train_labels);"
   ]
  },
  {
   "cell_type": "code",
   "execution_count": 5,
   "id": "b077babf",
   "metadata": {},
   "outputs": [
    {
     "data": {
      "text/plain": [
       "<matplotlib.image.AxesImage at 0x7f59cf663df0>"
      ]
     },
     "execution_count": 5,
     "metadata": {},
     "output_type": "execute_result"
    },
    {
     "data": {
      "image/png": "[encoded data removed]",
      "text/plain": [
       "<Figure size 432x288 with 1 Axes>"
      ]
     },
     "metadata": {
      "needs_background": "light"
     },
     "output_type": "display_data"
    }
   ],
   "source": [
    "# Изображения обучающей выборки\n",
    "train_size, rows, columns = 60000, 28, 28\n",
    "train_images = np.fromfile(source_train_im_path, dtype=np.uint8, offset=16).reshape((train_size, rows, columns))\n",
    "plt.imshow(train_images[1,:,:], cmap='gray')"
   ]
  },
  {
   "cell_type": "markdown",
   "id": "76ca47d0",
   "metadata": {},
   "source": [
    "### Тестовая выборка"
   ]
  },
  {
   "cell_type": "code",
   "execution_count": 6,
   "id": "3cf48684",
   "metadata": {},
   "outputs": [
    {
     "data": {
      "image/png": "[encoded data removed]",
      "text/plain": [
       "<Figure size 432x288 with 1 Axes>"
      ]
     },
     "metadata": {
      "needs_background": "light"
     },
     "output_type": "display_data"
    }
   ],
   "source": [
    "# Метки тестовой выборки\n",
    "test_labels = np.fromfile(source_test_l_path, dtype=np.uint8, offset=8)\n",
    "plt.hist(test_labels);"
   ]
  },
  {
   "cell_type": "code",
   "execution_count": 7,
   "id": "0a12f961",
   "metadata": {},
   "outputs": [
    {
     "data": {
      "text/plain": [
       "<matplotlib.image.AxesImage at 0x7f59cf5d6fa0>"
      ]
     },
     "execution_count": 7,
     "metadata": {},
     "output_type": "execute_result"
    },
    {
     "data": {
      "image/png": "[encoded data removed]",
      "text/plain": [
       "<Figure size 432x288 with 1 Axes>"
      ]
     },
     "metadata": {
      "needs_background": "light"
     },
     "output_type": "display_data"
    }
   ],
   "source": [
    "# Изображения тестовой выборки\n",
    "test_size, rows, columns = 10000, 28, 28\n",
    "test_images = np.fromfile(source_test_im_path, dtype=np.uint8, offset=16).reshape((test_size, rows, columns))\n",
    "plt.imshow(test_images[1,:,:], cmap='gray')"
   ]
  },
  {
   "cell_type": "markdown",
   "id": "805b6328",
   "metadata": {},
   "source": [
    "## Создадим модель "
   ]
  },
  {
   "cell_type": "code",
   "execution_count": 8,
   "id": "109f111c",
   "metadata": {},
   "outputs": [],
   "source": [
    "import sys\n",
    "sys.path.append('../')"
   ]
  },
  {
   "cell_type": "code",
   "execution_count": 9,
   "id": "3a5342c2",
   "metadata": {},
   "outputs": [],
   "source": [
    "from core.models import MNISTDense\n",
    "from core.initializers import He\n",
    "from core.optimizers import GradDesc\n",
    "from core.layers import Dense\n",
    "from core.losses import Crossentropy\n",
    "from core.activations import ReLu, Softmax"
   ]
  },
  {
   "cell_type": "code",
   "execution_count": 22,
   "id": "2832d46e",
   "metadata": {},
   "outputs": [],
   "source": [
    "n_train = 60000\n",
    "n_classes = 10\n",
    "prepared_labels = np.zeros((n_train, n_classes))\n",
    "prepared_labels[range(n_train), train_labels[:n_train]] = 1\n",
    "prepared_images = train_images[:n_train].reshape(n_train, -1)\n",
    "prepared_images = (prepared_images > 0).astype(np.uint8)"
   ]
  },
  {
   "cell_type": "code",
   "execution_count": 25,
   "id": "4c23558d",
   "metadata": {},
   "outputs": [],
   "source": [
    "model = MNISTDense(\n",
    "    input_size=28*28,\n",
    "    layers_sizes=[32, 10],\n",
    "    initializers_classes=[He, He],\n",
    "    activations_classes=[ReLu, Softmax],\n",
    "    optimizer=GradDesc(0.0001),\n",
    "    loss=Crossentropy\n",
    ")"
   ]
  },
  {
   "cell_type": "code",
   "execution_count": 26,
   "id": "a5b90006",
   "metadata": {},
   "outputs": [],
   "source": [
    "history = model.fit(prepared_images, prepared_labels)"
   ]
  },
  {
   "cell_type": "code",
   "execution_count": 27,
   "id": "6689d287",
   "metadata": {},
   "outputs": [
    {
     "data": {
      "text/plain": [
       "[<matplotlib.lines.Line2D at 0x7f59cf3a1250>]"
      ]
     },
     "execution_count": 27,
     "metadata": {},
     "output_type": "execute_result"
    },
    {
     "data": {
      "image/png": "[encoded data removed]",
      "text/plain": [
       "<Figure size 432x288 with 1 Axes>"
      ]
     },
     "metadata": {
      "needs_background": "light"
     },
     "output_type": "display_data"
    }
   ],
   "source": [
    "plt.plot(history)"
   ]
  },
  {
   "cell_type": "code",
   "execution_count": null,
   "id": "0cfe0cf9",
   "metadata": {},
   "outputs": [],
   "source": []
  }
 ],
 "metadata": {
  "kernelspec": {
   "display_name": "Python 3 (ipykernel)",
   "language": "python",
   "name": "python3"
  },
  "language_info": {
   "codemirror_mode": {
    "name": "ipython",
    "version": 3
   },
   "file_extension": ".py",
   "mimetype": "text/x-python",
   "name": "python",
   "nbconvert_exporter": "python",
   "pygments_lexer": "ipython3",
   "version": "3.8.10"
  }
 },
 "nbformat": 4,
 "nbformat_minor": 5
}
