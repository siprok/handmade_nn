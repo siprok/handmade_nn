{
 "cells": [
  {
   "cell_type": "code",
   "execution_count": 14,
   "id": "bd0b4270",
   "metadata": {},
   "outputs": [],
   "source": [
    "import gzip\n",
    "import idx2numpy\n",
    "import numpy as np\n",
    "import pickle\n",
    "import sys\n",
    "from pathlib import Path\n",
    "import matplotlib.pyplot as plt\n",
    "%matplotlib inline"
   ]
  },
  {
   "cell_type": "code",
   "execution_count": 29,
   "id": "c5124b9a",
   "metadata": {},
   "outputs": [],
   "source": [
    "project_path =  Path.cwd().parent\n",
    "data_path = project_path / \"data\"\n",
    "raw_path = data_path / \"raw\"\n",
    "preproc_path = data_path / \"preprocessed\"\n",
    "\n",
    "files = [\n",
    "\"train-images-idx3-ubyte\",\n",
    "\"train-labels-idx1-ubyte\",\n",
    "\"t10k-images-idx3-ubyte\",\n",
    "\"t10k-labels-idx1-ubyte\"\n",
    "]\n",
    "\n",
    "source_train_im_path = preproc_path / \"train-images-idx3-ubyte.bin\"\n",
    "source_train_l_path = preproc_path / \"train-labels-idx1-ubyte.bin\"\n",
    "source_test_im_path = preproc_path / \"t10k-images-idx3-ubyte.bin\"\n",
    "source_test_l_path = preproc_path / \"t10k-labels-idx1-ubyte.bin\"\n"
   ]
  },
  {
   "cell_type": "code",
   "execution_count": 33,
   "id": "3debc6c0",
   "metadata": {},
   "outputs": [],
   "source": [
    "for base in files:\n",
    "    with open(raw_path / (base + \".gz\"), \"rb\") as f:\n",
    "        decompressed = gzip.decompress(f.read())\n",
    "    with open(preproc_path / (base + \".bin\"), \"wb\") as f:\n",
    "        f.write(decompressed)"
   ]
  },
  {
   "cell_type": "code",
   "execution_count": 31,
   "id": "6eff6d1f",
   "metadata": {},
   "outputs": [],
   "source": [
    "labels = np.fromfile(source_train_l_path, dtype=np.uint8, offset=8)"
   ]
  },
  {
   "cell_type": "code",
   "execution_count": 32,
   "id": "b077babf",
   "metadata": {},
   "outputs": [
    {
     "data": {
      "image/png": "[encoded data removed]",
      "text/plain": [
       "<Figure size 432x288 with 1 Axes>"
      ]
     },
     "metadata": {
      "needs_background": "light"
     },
     "output_type": "display_data"
    }
   ],
   "source": [
    "plt.hist(labels);"
   ]
  },
  {
   "cell_type": "code",
   "execution_count": null,
   "id": "3cf48684",
   "metadata": {},
   "outputs": [],
   "source": []
  }
 ],
 "metadata": {
  "kernelspec": {
   "display_name": "Python 3 (ipykernel)",
   "language": "python",
   "name": "python3"
  },
  "language_info": {
   "codemirror_mode": {
    "name": "ipython",
    "version": 3
   },
   "file_extension": ".py",
   "mimetype": "text/x-python",
   "name": "python",
   "nbconvert_exporter": "python",
   "pygments_lexer": "ipython3",
   "version": "3.9.7"
  }
 },
 "nbformat": 4,
 "nbformat_minor": 5
}
