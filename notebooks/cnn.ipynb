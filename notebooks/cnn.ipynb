{
 "cells": [
  {
   "cell_type": "code",
   "execution_count": 1,
   "metadata": {},
   "outputs": [],
   "source": [
    "import numpy as np"
   ]
  },
  {
   "cell_type": "code",
   "execution_count": 99,
   "metadata": {},
   "outputs": [],
   "source": [
    "class  MaxPool1D():\n",
    "    def __init__(self, pool_size: int=2, stride: int=1):\n",
    "        self.pool_size = pool_size\n",
    "        self.stride = stride\n",
    "        \n",
    "    def forward(self, inputs: np.ndarray) -> np.ndarray:\n",
    "        \"\"\"inputs: np.ndarray(batch_size, n_elements)\n",
    "           return (inputs[1] - pool_size + 1) // stride\"\"\"\n",
    "        assert len(inputs.shape) == 2 \n",
    "        output_size = np.floor((inputs.shape[1] - self.pool_size + 1) / self.stride + 0.5).astype(int)\n",
    "        result = np.empty((inputs.shape[0], output_size), dtype=np.float32)\n",
    "        self.max_inds = np.empty_like(result, dtype=np.uint32)\n",
    "        for out_ind in range(output_size):\n",
    "            start = out_ind * self.stride\n",
    "            stop = start + self.pool_size\n",
    "            self.max_inds[:, out_ind: out_ind + 1] = np.argmax(inputs[:, start: stop], axis=1, keepdims=True) + start\n",
    "            result[:, out_ind] = inputs[range(inputs.shape[0]), self.max_inds[:, out_ind]]\n",
    "        return result\n",
    "    \n",
    "    def backward(self,\n",
    "                 inputs: np.ndarray,\n",
    "                 error_grad_mat: np.ndarray,\n",
    "                 l1: np.float32 = 0.001,\n",
    "                 l2: np.float32 = 0.001) -> np.ndarray:\n",
    "        error_by_inputs = np.zeros_like(inputs)\n",
    "        rows = np.repeat(range(error_grad_mat.shape[0]), error_grad_mat.shape[1]).flatten()\n",
    "        cols = self.max_inds.flatten()\n",
    "        error_by_inputs[rows, cols] = error_grad_mat.flatten()\n",
    "        return error_by_inputs"
   ]
  },
  {
   "cell_type": "code",
   "execution_count": 105,
   "metadata": {},
   "outputs": [
    {
     "name": "stdout",
     "output_type": "stream",
     "text": [
      "[[0.01913571 0.92748992 0.99478995 0.53823202 0.23681796]\n",
      " [0.00688022 0.33551887 0.9533459  0.7388261  0.04049291]]\n"
     ]
    },
    {
     "data": {
      "text/plain": [
       "array([[0.92748994, 0.99478996],\n",
       "       [0.33551887, 0.9533459 ]], dtype=float32)"
      ]
     },
     "metadata": {},
     "output_type": "display_data"
    },
    {
     "data": {
      "text/plain": [
       "array([[0.        , 0.92748994, 0.99478996, 0.        , 0.        ],\n",
       "       [0.        , 0.33551887, 0.95334589, 0.        , 0.        ]])"
      ]
     },
     "execution_count": 105,
     "metadata": {},
     "output_type": "execute_result"
    }
   ],
   "source": [
    "a = np.random.rand(2,5)\n",
    "print(a)\n",
    "pooling = MaxPool1D(stride=2)\n",
    "res = pooling.forward(a)\n",
    "display(res)\n",
    "pooling.backward(a, res)\n"
   ]
  },
  {
   "cell_type": "code",
   "execution_count": 97,
   "metadata": {},
   "outputs": [
    {
     "data": {
      "text/plain": [
       "array([[1, 3, 5],\n",
       "       [1, 3, 5]], dtype=uint32)"
      ]
     },
     "execution_count": 97,
     "metadata": {},
     "output_type": "execute_result"
    }
   ],
   "source": [
    "pooling.result_inds"
   ]
  },
  {
   "cell_type": "code",
   "execution_count": null,
   "metadata": {},
   "outputs": [],
   "source": [
    "1"
   ]
  }
 ],
 "metadata": {
  "interpreter": {
   "hash": "31f2aee4e71d21fbe5cf8b01ff0e069b9275f58929596ceb00d14d90e3e16cd6"
  },
  "kernelspec": {
   "display_name": "Python 3.8.10 64-bit",
   "language": "python",
   "name": "python3"
  },
  "language_info": {
   "codemirror_mode": {
    "name": "ipython",
    "version": 3
   },
   "file_extension": ".py",
   "mimetype": "text/x-python",
   "name": "python",
   "nbconvert_exporter": "python",
   "pygments_lexer": "ipython3",
   "version": "3.8.10"
  },
  "orig_nbformat": 4
 },
 "nbformat": 4,
 "nbformat_minor": 2
}
