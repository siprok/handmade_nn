{
 "cells": [
  {
   "cell_type": "code",
   "execution_count": 9,
   "metadata": {},
   "outputs": [],
   "source": [
    "import numpy as np\n",
    "from typing import Tuple"
   ]
  },
  {
   "cell_type": "code",
   "execution_count": 43,
   "metadata": {},
   "outputs": [],
   "source": [
    "import sys\n",
    "sys.path.append('../')\n",
    "from core.layers import MaxPool1D"
   ]
  },
  {
   "cell_type": "code",
   "execution_count": 44,
   "metadata": {},
   "outputs": [
    {
     "name": "stdout",
     "output_type": "stream",
     "text": [
      "a\n",
      "[[[0.87438169 0.58521346 0.92161849 0.95982559]\n",
      "  [0.76362345 0.96857109 0.31032174 0.83557177]\n",
      "  [0.30788351 0.37818086 0.28135505 0.29124525]]\n",
      "\n",
      " [[0.97339315 0.17963671 0.39660327 0.94229126]\n",
      "  [0.71856004 0.2236836  0.40879094 0.24339306]\n",
      "  [0.84279593 0.2700115  0.03313796 0.4881363 ]]]\n",
      "res\n",
      "[[[0.87438172 0.96857107 0.92161846 0.95982558]]\n",
      "\n",
      " [[0.97339314 0.27001148 0.40879095 0.94229126]]]\n"
     ]
    },
    {
     "data": {
      "text/plain": [
       "array([[[0.87438172, 0.        , 0.92161846, 0.95982558],\n",
       "        [0.        , 0.96857107, 0.        , 0.        ],\n",
       "        [0.        , 0.        , 0.        , 0.        ]],\n",
       "\n",
       "       [[0.97339314, 0.        , 0.        , 0.94229126],\n",
       "        [0.        , 0.        , 0.40879095, 0.        ],\n",
       "        [0.        , 0.27001148, 0.        , 0.        ]]])"
      ]
     },
     "execution_count": 44,
     "metadata": {},
     "output_type": "execute_result"
    }
   ],
   "source": [
    "a = np.random.rand(2,3, 4)\n",
    "print(\"a\", a, sep=\"\\n\")\n",
    "pooling = MaxPool1D(pool_size=3, stride=2, axis=1)\n",
    "res = pooling.forward(a)\n",
    "print(\"res\", res, sep=\"\\n\")\n",
    "pooling.backward(a, res)\n"
   ]
  },
  {
   "cell_type": "code",
   "execution_count": 79,
   "metadata": {},
   "outputs": [],
   "source": [
    "class MaxPool2D():\n",
    "    def __init__(self, pool_sizes: Tuple[int, int]=(2, 2), strides: Tuple[int, int]=(1, 1), axes: Tuple[int, int]=(1, 2)):\n",
    "        assert axes[0] < axes[1]\n",
    "        self.pool_sizes = pool_sizes\n",
    "        self.strides = strides\n",
    "        self.axes = list(axes)\n",
    "        \n",
    "    def forward(self, inputs: np.ndarray) -> np.ndarray:\n",
    "        \"\"\"inputs: np.ndarray(batch_size, *dimensions)\"\"\"\n",
    "        if len(inputs.shape) == 2:\n",
    "            result, self.max_inds = self.__pool(inputs)\n",
    "        else:\n",
    "            result_dims = np.array(list(inputs.shape))\n",
    "            result_dims[self.axes] = self.__calc_out_size(result_dims[self.axes]) \n",
    "            result = np.empty(result_dims, dtype=np.float32)\n",
    "            self.max_inds = np.zeros_like(result, dtype=object)\n",
    "            poped_axes = list(range(len(inputs.shape)))\n",
    "            poped_axes.pop(self.axes[0])\n",
    "            poped_axes.pop(self.axes[1] - 1)\n",
    "            poped_axes = tuple(np.expand_dims(poped_axes, 0))\n",
    "            poped_dims = np.array(inputs.shape)[poped_axes]\n",
    "            indexes = np.array([slice(None)] * len(inputs.shape), dtype=object)\n",
    "            for others in np.ndindex(*poped_dims):\n",
    "                indexes[poped_axes] = others\n",
    "                tupled = tuple(indexes)\n",
    "                result[tupled], self.max_inds[tupled] = self.__pool(inputs[tupled]) \n",
    "        return result\n",
    "    \n",
    "    def __calc_out_size(self, inputs_shape: tuple):\n",
    "        \"\"\"inputs_shape: shape of pooled 2d matrix\"\"\"\n",
    "        return [\n",
    "            np.floor((inputs_shape[i] - self.pool_sizes[i] + 1) / self.strides[i] + 0.5).astype(int)\n",
    "            for i in range(2)\n",
    "        ]\n",
    "\n",
    "    def __pool(self, inputs: np.ndarray) -> np.ndarray:\n",
    "        \"\"\"inputs: 2d array\"\"\"\n",
    "        output_sizes = self.__calc_out_size(inputs.shape)\n",
    "        result = np.zeros(output_sizes, dtype=np.float32)\n",
    "        max_inds = np.zeros(result.shape, dtype=tuple)\n",
    "        for out_inds in np.ndindex(*output_sizes):\n",
    "            start = [out_inds[i] * self.strides[i] for i in range(2)]\n",
    "            stop = [start[i] + self.pool_sizes[i] for i in range(2)]\n",
    "            borders = tuple([slice(start[i], stop[i]) for i in range(2)])\n",
    "            max_inds[out_inds] = tuple(np.unravel_index(np.argmax(inputs[borders]), self.pool_sizes) + np.array(start))\n",
    "            result[out_inds] = inputs[max_inds[out_inds]]\n",
    "        return result, max_inds\n",
    "    \n",
    "    def backward(self,\n",
    "                inputs: np.ndarray,\n",
    "                error_grad_mat: np.ndarray,\n",
    "                l1: np.float32 = 0.001,\n",
    "                l2: np.float32 = 0.001) -> np.ndarray:\n",
    "        error_by_inputs = np.zeros_like(inputs)\n",
    "        flattend_max = np.array(list(self.max_inds.flatten()))\n",
    "        indexes = np.array(list(np.ndindex(*(error_grad_mat.shape)))) \n",
    "        for i in range(2):\n",
    "            np.put(indexes, np.arange(indexes.shape[0]) * indexes.shape[1] + self.axes[i], flattend_max[:, i])\n",
    "        error_by_inputs[tuple(indexes.T)] = error_grad_mat.flatten()\n",
    "        return error_by_inputs"
   ]
  },
  {
   "cell_type": "code",
   "execution_count": 80,
   "metadata": {},
   "outputs": [
    {
     "name": "stdout",
     "output_type": "stream",
     "text": [
      "a\n",
      "[[[0.55259416 0.74643588 0.56623384 0.19955806]\n",
      "  [0.47414004 0.5795471  0.6162695  0.57581072]\n",
      "  [0.41045298 0.95141272 0.89002325 0.73921007]\n",
      "  [0.08843449 0.8691462  0.76143928 0.76678522]]\n",
      "\n",
      " [[0.20855568 0.82524254 0.32863929 0.09428927]\n",
      "  [0.19208188 0.78783922 0.27354176 0.45712893]\n",
      "  [0.51345745 0.15498382 0.79437955 0.62974118]\n",
      "  [0.35168093 0.76424899 0.26166434 0.9026296 ]]\n",
      "\n",
      " [[0.21145086 0.49116235 0.81729649 0.5965204 ]\n",
      "  [0.97959501 0.19245079 0.08605412 0.3967168 ]\n",
      "  [0.67602722 0.1015473  0.50434688 0.10514434]\n",
      "  [0.08864261 0.84909109 0.00251432 0.21780545]]]\n",
      "res\n",
      "[[[0.8252425  0.5662338 ]\n",
      "  [0.78783923 0.6162695 ]\n",
      "  [0.95141274 0.89002323]\n",
      "  [0.8691462  0.9026296 ]]\n",
      "\n",
      " [[0.8252425  0.8172965 ]\n",
      "  [0.979595   0.45712894]\n",
      "  [0.67602724 0.79437953]\n",
      "  [0.8490911  0.9026296 ]]]\n"
     ]
    },
    {
     "data": {
      "text/plain": [
       "array([[[0.        , 0.        , 0.56623381, 0.        ],\n",
       "        [0.        , 0.        , 0.61626953, 0.        ],\n",
       "        [0.        , 0.95141274, 0.89002323, 0.        ],\n",
       "        [0.        , 0.86914623, 0.        , 0.        ]],\n",
       "\n",
       "       [[0.        , 0.82524252, 0.        , 0.        ],\n",
       "        [0.        , 0.78783923, 0.        , 0.45712894],\n",
       "        [0.        , 0.        , 0.79437953, 0.        ],\n",
       "        [0.        , 0.        , 0.        , 0.90262961]],\n",
       "\n",
       "       [[0.        , 0.        , 0.8172965 , 0.        ],\n",
       "        [0.97959501, 0.        , 0.        , 0.        ],\n",
       "        [0.67602724, 0.        , 0.        , 0.        ],\n",
       "        [0.        , 0.84909111, 0.        , 0.        ]]])"
      ]
     },
     "execution_count": 80,
     "metadata": {},
     "output_type": "execute_result"
    }
   ],
   "source": [
    "a = np.random.rand(3,4,4)\n",
    "print(\"a\", a, sep=\"\\n\")\n",
    "pooling = MaxPool2D(pool_sizes=(2,2), strides=(1, 2), axes=(0,2))\n",
    "res = pooling.forward(a)\n",
    "print(\"res\", res, sep=\"\\n\")\n",
    "pooling.backward(a, res)\n"
   ]
  }
 ],
 "metadata": {
  "interpreter": {
   "hash": "31f2aee4e71d21fbe5cf8b01ff0e069b9275f58929596ceb00d14d90e3e16cd6"
  },
  "kernelspec": {
   "display_name": "Python 3.8.10 64-bit",
   "language": "python",
   "name": "python3"
  },
  "language_info": {
   "codemirror_mode": {
    "name": "ipython",
    "version": 3
   },
   "file_extension": ".py",
   "mimetype": "text/x-python",
   "name": "python",
   "nbconvert_exporter": "python",
   "pygments_lexer": "ipython3",
   "version": "3.8.10"
  },
  "orig_nbformat": 4
 },
 "nbformat": 4,
 "nbformat_minor": 2
}
