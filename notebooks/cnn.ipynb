{
 "cells": [
  {
   "cell_type": "code",
   "execution_count": 2,
   "metadata": {},
   "outputs": [],
   "source": [
    "import numpy as np"
   ]
  },
  {
   "cell_type": "code",
   "execution_count": 84,
   "metadata": {},
   "outputs": [],
   "source": [
    "class  MaxPool1D():\n",
    "    def __init__(self, pool_size: int=2, stride: int=1, axis: int=1):\n",
    "        self.pool_size = pool_size\n",
    "        self.stride = stride\n",
    "        self.axis = axis\n",
    "        \n",
    "    def forward(self, inputs: np.ndarray) -> np.ndarray:\n",
    "        \"\"\"inputs: np.ndarray(batch_size, n_elements)\n",
    "           return (inputs[1] - pool_size + 1) // stride\"\"\"\n",
    "        pooled = np.apply_along_axis(\n",
    "            func1d=self.__pool,\n",
    "            axis=self.axis,\n",
    "            arr=inputs\n",
    "        )\n",
    "        result = np.take(pooled, indices=0, axis=self.axis)\n",
    "        self.max_inds = np.take(pooled, indices=1, axis=self.axis).astype(np.uint32)\n",
    "        return result\n",
    "    \n",
    "    def __pool(self, inputs: np.ndarray) -> np.ndarray:\n",
    "        output_size = np.floor((inputs.size - self.pool_size + 1) / self.stride + 0.5).astype(int)\n",
    "        result = np.zeros(output_size, dtype=np.float32)\n",
    "        max_inds = np.zeros_like(result, dtype=np.uint32)\n",
    "        for out_ind in range(output_size):\n",
    "            start = out_ind * self.stride\n",
    "            stop = start + self.pool_size\n",
    "            max_inds[out_ind] = np.argmax(inputs[start: stop]) + start\n",
    "            result[out_ind] = inputs[max_inds[out_ind]]\n",
    "        return result, max_inds\n",
    "    \n",
    "    def backward(self,\n",
    "                 inputs: np.ndarray,\n",
    "                 error_grad_mat: np.ndarray,\n",
    "                 l1: np.float32 = 0.001,\n",
    "                 l2: np.float32 = 0.001) -> np.ndarray:\n",
    "        error_by_inputs = np.zeros_like(inputs)\n",
    "        indexes = np.array(list(np.ndindex(*(error_grad_mat.shape)))) \n",
    "        np.put(indexes, np.arange(indexes.shape[0]) * indexes.shape[1] + self.axis, self.max_inds.flatten())\n",
    "        error_by_inputs[tuple(indexes.T)] = error_grad_mat.flatten()\n",
    "        return error_by_inputs"
   ]
  },
  {
   "cell_type": "code",
   "execution_count": 88,
   "metadata": {},
   "outputs": [
    {
     "name": "stdout",
     "output_type": "stream",
     "text": [
      "a\n",
      "[[[0.9838107  0.02120399 0.73411237 0.99301228]\n",
      "  [0.0226108  0.03694803 0.70356613 0.99976487]\n",
      "  [0.57210921 0.90463535 0.28209485 0.10785797]]\n",
      "\n",
      " [[0.47585868 0.31439878 0.98992964 0.48488062]\n",
      "  [0.46186045 0.44829631 0.26614923 0.39666725]\n",
      "  [0.0807282  0.80308296 0.34583937 0.03564313]]]\n",
      "res\n",
      "[[[0.98381072 0.90463537 0.73411238 0.99976486]]\n",
      "\n",
      " [[0.47585869 0.80308294 0.98992962 0.48488063]]]\n"
     ]
    },
    {
     "data": {
      "text/plain": [
       "array([[[0.98381072, 0.        , 0.73411238, 0.        ],\n",
       "        [0.        , 0.        , 0.        , 0.99976486],\n",
       "        [0.        , 0.90463537, 0.        , 0.        ]],\n",
       "\n",
       "       [[0.47585869, 0.        , 0.98992962, 0.48488063],\n",
       "        [0.        , 0.        , 0.        , 0.        ],\n",
       "        [0.        , 0.80308294, 0.        , 0.        ]]])"
      ]
     },
     "execution_count": 88,
     "metadata": {},
     "output_type": "execute_result"
    }
   ],
   "source": [
    "a = np.random.rand(2,3, 4)\n",
    "print(\"a\", a, sep=\"\\n\")\n",
    "pooling = MaxPool1D(pool_size=3, stride=2, axis=1)\n",
    "res = pooling.forward(a)\n",
    "print(\"res\", res, sep=\"\\n\")\n",
    "pooling.backward(a, res)\n"
   ]
  },
  {
   "cell_type": "code",
   "execution_count": 97,
   "metadata": {},
   "outputs": [
    {
     "data": {
      "text/plain": [
       "array([[1, 3, 5],\n",
       "       [1, 3, 5]], dtype=uint32)"
      ]
     },
     "execution_count": 97,
     "metadata": {},
     "output_type": "execute_result"
    }
   ],
   "source": [
    "pooling.result_inds"
   ]
  },
  {
   "cell_type": "code",
   "execution_count": 74,
   "metadata": {},
   "outputs": [
    {
     "data": {
      "text/plain": [
       "array([[ 0, 10,  0],\n",
       "       [ 0, 10,  1],\n",
       "       [ 0, 10,  2],\n",
       "       [ 0, 10,  3],\n",
       "       [ 0, 10,  0],\n",
       "       [ 0, 10,  1],\n",
       "       [ 0, 10,  2],\n",
       "       [ 0, 10,  3],\n",
       "       [ 0, 10,  0],\n",
       "       [ 0, 10,  1],\n",
       "       [ 0, 10,  2],\n",
       "       [ 0, 10,  3],\n",
       "       [ 1, 10,  0],\n",
       "       [ 1, 10,  1],\n",
       "       [ 1, 10,  2],\n",
       "       [ 1, 10,  3],\n",
       "       [ 1, 10,  0],\n",
       "       [ 1, 10,  1],\n",
       "       [ 1, 10,  2],\n",
       "       [ 1, 10,  3],\n",
       "       [ 1, 10,  0],\n",
       "       [ 1, 10,  1],\n",
       "       [ 1, 10,  2],\n",
       "       [ 1, 10,  3]])"
      ]
     },
     "execution_count": 74,
     "metadata": {},
     "output_type": "execute_result"
    }
   ],
   "source": [
    "a = np.arange(24).reshape((2, 3,-1))\n",
    "b = np.array(list(np.ndindex(*(a.shape))))\n",
    "np.put(b, np.arange(b.shape[0]) * b.shape[1] + 1, np.array([10] * b.shape[0]))\n",
    "b"
   ]
  },
  {
   "cell_type": "code",
   "execution_count": null,
   "metadata": {},
   "outputs": [],
   "source": []
  }
 ],
 "metadata": {
  "interpreter": {
   "hash": "31f2aee4e71d21fbe5cf8b01ff0e069b9275f58929596ceb00d14d90e3e16cd6"
  },
  "kernelspec": {
   "display_name": "Python 3.8.10 64-bit",
   "language": "python",
   "name": "python3"
  },
  "language_info": {
   "codemirror_mode": {
    "name": "ipython",
    "version": 3
   },
   "file_extension": ".py",
   "mimetype": "text/x-python",
   "name": "python",
   "nbconvert_exporter": "python",
   "pygments_lexer": "ipython3",
   "version": "3.8.10"
  },
  "orig_nbformat": 4
 },
 "nbformat": 4,
 "nbformat_minor": 2
}
