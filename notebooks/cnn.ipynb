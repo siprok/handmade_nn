{
 "cells": [
  {
   "cell_type": "code",
   "execution_count": 89,
   "metadata": {},
   "outputs": [],
   "source": [
    "import numpy as np\n",
    "from scipy.ndimage import correlate\n",
    "from typing import Tuple"
   ]
  },
  {
   "cell_type": "code",
   "execution_count": 43,
   "metadata": {},
   "outputs": [],
   "source": [
    "import sys\n",
    "sys.path.append('../')\n",
    "from core.layers import MaxPool1D, MaxPool2D"
   ]
  },
  {
   "cell_type": "code",
   "execution_count": 44,
   "metadata": {},
   "outputs": [
    {
     "name": "stdout",
     "output_type": "stream",
     "text": [
      "a\n",
      "[[[0.87438169 0.58521346 0.92161849 0.95982559]\n",
      "  [0.76362345 0.96857109 0.31032174 0.83557177]\n",
      "  [0.30788351 0.37818086 0.28135505 0.29124525]]\n",
      "\n",
      " [[0.97339315 0.17963671 0.39660327 0.94229126]\n",
      "  [0.71856004 0.2236836  0.40879094 0.24339306]\n",
      "  [0.84279593 0.2700115  0.03313796 0.4881363 ]]]\n",
      "res\n",
      "[[[0.87438172 0.96857107 0.92161846 0.95982558]]\n",
      "\n",
      " [[0.97339314 0.27001148 0.40879095 0.94229126]]]\n"
     ]
    },
    {
     "data": {
      "text/plain": [
       "array([[[0.87438172, 0.        , 0.92161846, 0.95982558],\n",
       "        [0.        , 0.96857107, 0.        , 0.        ],\n",
       "        [0.        , 0.        , 0.        , 0.        ]],\n",
       "\n",
       "       [[0.97339314, 0.        , 0.        , 0.94229126],\n",
       "        [0.        , 0.        , 0.40879095, 0.        ],\n",
       "        [0.        , 0.27001148, 0.        , 0.        ]]])"
      ]
     },
     "execution_count": 44,
     "metadata": {},
     "output_type": "execute_result"
    }
   ],
   "source": [
    "a = np.random.rand(2,3, 4)\n",
    "print(\"a\", a, sep=\"\\n\")\n",
    "pooling = MaxPool1D(pool_size=3, stride=2, axis=1)\n",
    "res = pooling.forward(a)\n",
    "print(\"res\", res, sep=\"\\n\")\n",
    "pooling.backward(a, res)\n"
   ]
  },
  {
   "cell_type": "code",
   "execution_count": 81,
   "metadata": {},
   "outputs": [
    {
     "name": "stdout",
     "output_type": "stream",
     "text": [
      "a\n",
      "[[[7.98315197e-01 8.53322036e-01 7.77697855e-01 1.95731408e-01]\n",
      "  [4.20926105e-01 7.59160773e-01 7.63806579e-01 8.16968292e-01]\n",
      "  [9.55194655e-01 4.37490684e-01 4.94390776e-01 1.08068867e-01]\n",
      "  [7.96613185e-01 7.54197608e-03 2.84609684e-01 2.56168346e-01]]\n",
      "\n",
      " [[6.20634429e-01 6.24889280e-01 1.24534311e-01 3.25205239e-01]\n",
      "  [4.70031289e-01 3.71424375e-01 7.10399220e-02 5.86093013e-01]\n",
      "  [2.02084375e-01 6.34923555e-01 5.62325949e-01 4.43795835e-01]\n",
      "  [3.22377563e-01 8.53950215e-01 7.24791872e-01 1.79638328e-01]]\n",
      "\n",
      " [[1.31344130e-04 1.59272269e-01 8.96386174e-01 9.60966965e-01]\n",
      "  [9.79418085e-01 1.28320963e-01 2.14882699e-02 2.78378510e-01]\n",
      "  [5.97642976e-01 2.23250250e-01 1.11323555e-01 6.67708667e-01]\n",
      "  [5.03978662e-01 9.85470509e-01 4.80455656e-01 2.73143293e-01]]]\n",
      "res\n",
      "[[[0.853322   0.77769786]\n",
      "  [0.75916076 0.8169683 ]\n",
      "  [0.95519465 0.56232595]\n",
      "  [0.8539502  0.7247919 ]]\n",
      "\n",
      " [[0.62488925 0.96096694]\n",
      "  [0.9794181  0.586093  ]\n",
      "  [0.6349236  0.6677087 ]\n",
      "  [0.98547053 0.7247919 ]]]\n"
     ]
    },
    {
     "data": {
      "text/plain": [
       "array([[[0.        , 0.85332203, 0.77769786, 0.        ],\n",
       "        [0.        , 0.75916076, 0.        , 0.81696832],\n",
       "        [0.95519465, 0.        , 0.        , 0.        ],\n",
       "        [0.        , 0.        , 0.        , 0.        ]],\n",
       "\n",
       "       [[0.        , 0.62488925, 0.        , 0.        ],\n",
       "        [0.        , 0.        , 0.        , 0.58609301],\n",
       "        [0.        , 0.63492358, 0.56232595, 0.        ],\n",
       "        [0.        , 0.8539502 , 0.72479188, 0.        ]],\n",
       "\n",
       "       [[0.        , 0.        , 0.        , 0.96096694],\n",
       "        [0.9794181 , 0.        , 0.        , 0.        ],\n",
       "        [0.        , 0.        , 0.        , 0.66770869],\n",
       "        [0.        , 0.98547053, 0.        , 0.        ]]])"
      ]
     },
     "execution_count": 81,
     "metadata": {},
     "output_type": "execute_result"
    }
   ],
   "source": [
    "a = np.random.rand(3,4,4)\n",
    "print(\"a\", a, sep=\"\\n\")\n",
    "pooling = MaxPool2D(pool_sizes=(2,2), strides=(1, 2), axes=(0,2))\n",
    "res = pooling.forward(a)\n",
    "print(\"res\", res, sep=\"\\n\")\n",
    "pooling.backward(a, res)\n"
   ]
  },
  {
   "cell_type": "code",
   "execution_count": 104,
   "metadata": {},
   "outputs": [
    {
     "name": "stdout",
     "output_type": "stream",
     "text": [
      "a\n",
      "[[0 1 2 3]\n",
      " [4 5 6 7]]\n",
      "kernel\n",
      "[[1. 1. 1.]]\n"
     ]
    },
    {
     "data": {
      "text/plain": [
       "array([[ 1,  3,  6,  5],\n",
       "       [ 9, 15, 18, 13]])"
      ]
     },
     "execution_count": 104,
     "metadata": {},
     "output_type": "execute_result"
    }
   ],
   "source": [
    "a = np.arange(8).reshape((2,-1))\n",
    "print(\"a\", a, sep='\\n')\n",
    "kernel = np.ones((1,3))\n",
    "\n",
    "print(\"kernel\", kernel, sep='\\n')\n",
    "correlate(a, kernel, mode=\"constant\", cval=0)"
   ]
  },
  {
   "cell_type": "code",
   "execution_count": null,
   "metadata": {},
   "outputs": [],
   "source": []
  }
 ],
 "metadata": {
  "interpreter": {
   "hash": "31f2aee4e71d21fbe5cf8b01ff0e069b9275f58929596ceb00d14d90e3e16cd6"
  },
  "kernelspec": {
   "display_name": "Python 3.8.10 64-bit",
   "language": "python",
   "name": "python3"
  },
  "language_info": {
   "codemirror_mode": {
    "name": "ipython",
    "version": 3
   },
   "file_extension": ".py",
   "mimetype": "text/x-python",
   "name": "python",
   "nbconvert_exporter": "python",
   "pygments_lexer": "ipython3",
   "version": "3.8.10"
  },
  "orig_nbformat": 4
 },
 "nbformat": 4,
 "nbformat_minor": 2
}
